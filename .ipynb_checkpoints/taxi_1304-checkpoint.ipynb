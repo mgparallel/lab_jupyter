{
 "cells": [
  {
   "cell_type": "markdown",
   "id": "bce88916-dd36-425c-9b77-89e2b73c3b80",
   "metadata": {},
   "source": [
    "Business challenge: Gestión de datos de una compañía de taxis\n",
    "Escenario empresarial: Se te ha encargado desarrollar un programa en Python para una compañía de taxis en Barcelona. El programa debería ayudar a la compañía a gestionar datos relacionados con sus taxis, conductores y viajes. La compañía de taxis necesita almacenar y manipular estos datos de manera eficiente para optimizar sus operaciones."
   ]
  },
  {
   "cell_type": "markdown",
   "id": "dd7559d7-92a1-4e10-a235-a72f69e8f7d7",
   "metadata": {},
   "source": [
    "Crear una lista para almacenar información sobre los viajes en taxi. Cada viaje debe incluir los siguientes detalles:\n",
    "\n",
    "ID del viaje (un identificador único)\n",
    "ID del conductor (para asociar el viaje con un conductor)\n",
    "Nombre del cliente\n",
    "Distancia del viaje (en kilómetros)\n",
    "Tarifa del viaje (en euros)"
   ]
  },
  {
   "cell_type": "code",
   "execution_count": null,
   "id": "2ced38d7-0139-411c-ac88-be07c0155d1a",
   "metadata": {},
   "outputs": [],
   "source": [
    "Crear un diccionario para almacenar información sobre los conductores de taxi. Cada conductor debe tener un ID de conductor único (un valor numérico) y los siguientes detalles:\n",
    "\n",
    "Nombre completo del conductor\n",
    "Número de contacto\n",
    "Número total de viajes realizados\n"
   ]
  },
  {
   "cell_type": "code",
   "execution_count": null,
   "id": "17b616ee-7db7-43ab-913e-e1b10ca9c2fd",
   "metadata": {},
   "outputs": [],
   "source": [
    "Implementar las siguientes funcionalidades dentro de tu programa en Python:\n",
    "\n",
    "Proporcionar el pseudocódigo\n",
    "Añadir nuevos conductores al diccionario de conductores.\n",
    "Registrar nuevos viajes en taxi con los detalles relevantes.\n",
    "Calcular y actualizar el número total de viajes realizados por cada conductor.\n",
    "Calcular los ingresos totales generados por la compañía de taxis.\n",
    "Encontrar al conductor con el mayor número de viajes.\n",
    "Encontrar al conductor con los ingresos totales más altos.\n",
    "Listar todos los viajes realizados por un conductor específico."
   ]
  },
  {
   "cell_type": "code",
   "execution_count": null,
   "id": "c9497334-f17f-4eca-bae2-f88a915cd7d5",
   "metadata": {},
   "outputs": [],
   "source": [
    "Este es mi cambio (Ruben)"
   ]
  }
 ],
 "metadata": {
  "kernelspec": {
   "display_name": "Python 3 (ipykernel)",
   "language": "python",
   "name": "python3"
  },
  "language_info": {
   "codemirror_mode": {
    "name": "ipython",
    "version": 3
   },
   "file_extension": ".py",
   "mimetype": "text/x-python",
   "name": "python",
   "nbconvert_exporter": "python",
   "pygments_lexer": "ipython3",
   "version": "3.10.12"
  }
 },
 "nbformat": 4,
 "nbformat_minor": 5
}
